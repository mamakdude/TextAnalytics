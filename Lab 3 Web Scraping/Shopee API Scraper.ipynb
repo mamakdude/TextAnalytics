{
 "cells": [
  {
   "cell_type": "code",
   "execution_count": 2,
   "id": "225707c1",
   "metadata": {},
   "outputs": [
    {
     "name": "stdout",
     "output_type": "stream",
     "text": [
      "Invalid URL\n"
     ]
    },
    {
     "ename": "KeyError",
     "evalue": "'data'",
     "output_type": "error",
     "traceback": [
      "\u001b[1;31m---------------------------------------------------------------------------\u001b[0m",
      "\u001b[1;31mKeyError\u001b[0m                                  Traceback (most recent call last)",
      "Cell \u001b[1;32mIn[2], line 19\u001b[0m\n\u001b[0;32m     16\u001b[0m ratings_url \u001b[38;5;241m=\u001b[39m \u001b[38;5;124mf\u001b[39m\u001b[38;5;124m'\u001b[39m\u001b[38;5;124mhttps://shopee.com.my/api/v2/item/get_ratings?filter=0&flag=1&itemid=\u001b[39m\u001b[38;5;132;01m{\u001b[39;00m\u001b[38;5;241m836359116\u001b[39m\u001b[38;5;132;01m}\u001b[39;00m\u001b[38;5;124m&limit=20&offset=\u001b[39m\u001b[38;5;132;01m{\u001b[39;00m\u001b[38;5;241m10\u001b[39m\u001b[38;5;132;01m}\u001b[39;00m\u001b[38;5;124m&shopid=\u001b[39m\u001b[38;5;132;01m{\u001b[39;00m\u001b[38;5;241m29754977028\u001b[39m\u001b[38;5;132;01m}\u001b[39;00m\u001b[38;5;124m&type=0\u001b[39m\u001b[38;5;124m'\u001b[39m\n\u001b[0;32m     17\u001b[0m data \u001b[38;5;241m=\u001b[39m requests\u001b[38;5;241m.\u001b[39mget(ratings_url)\u001b[38;5;241m.\u001b[39mjson()\n\u001b[1;32m---> 19\u001b[0m \u001b[38;5;28;01mfor\u001b[39;00m rating \u001b[38;5;129;01min\u001b[39;00m data[\u001b[38;5;124m'\u001b[39m\u001b[38;5;124mdata\u001b[39m\u001b[38;5;124m'\u001b[39m][\u001b[38;5;124m'\u001b[39m\u001b[38;5;124mratings\u001b[39m\u001b[38;5;124m'\u001b[39m]:\n\u001b[0;32m     20\u001b[0m     \u001b[38;5;28mprint\u001b[39m(rating[\u001b[38;5;124m'\u001b[39m\u001b[38;5;124mauthor_username\u001b[39m\u001b[38;5;124m'\u001b[39m])\n\u001b[0;32m     21\u001b[0m     \u001b[38;5;28mprint\u001b[39m(rating[\u001b[38;5;124m'\u001b[39m\u001b[38;5;124mcomment\u001b[39m\u001b[38;5;124m'\u001b[39m])\n",
      "\u001b[1;31mKeyError\u001b[0m: 'data'"
     ]
    }
   ],
   "source": [
    "import re\n",
    "import json\n",
    "import requests\n",
    "\n",
    "url = 'https://shopee.com.my/product/836359116/29754977028?seoName=Compatible%20for%20iphone%2014%20Pro%20Max%2016%2011%2012%2013%2015%20Pro%20Max%20Cartonman%20Casing%207%208%20Plus%20xr%20xs%20Max%20Wrinkle%20Matte%20Case'\n",
    "\n",
    "r = re.search(r'i\\.(\\d+)\\.(\\d+)', url)\n",
    "if r:\n",
    "    shop_id, item_id = r.group(1), r.group(2)\n",
    "else:\n",
    "    print(\"Invalid URL\")\n",
    "    exit()\n",
    "\n",
    "offset = 0\n",
    "while True:\n",
    "    ratings_url = f'https://shopee.com.my/api/v2/item/get_ratings?filter=0&flag=1&itemid={836359116}&limit=20&offset={10}&shopid={29754977028}&type=0'\n",
    "    data = requests.get(ratings_url).json()\n",
    "\n",
    "    for rating in data['data']['ratings']:\n",
    "        print(rating['author_username'])\n",
    "        print(rating['comment'])\n",
    "        print('-' * 80)\n",
    "\n",
    "    if len(data['data']['ratings']) < 20:\n",
    "        break\n",
    "\n",
    "    offset += 20"
   ]
  },
  {
   "cell_type": "code",
   "execution_count": null,
   "id": "05c4722b",
   "metadata": {},
   "outputs": [],
   "source": []
  }
 ],
 "metadata": {
  "kernelspec": {
   "display_name": "Python [conda env:base] *",
   "language": "python",
   "name": "conda-base-py"
  },
  "language_info": {
   "codemirror_mode": {
    "name": "ipython",
    "version": 3
   },
   "file_extension": ".py",
   "mimetype": "text/x-python",
   "name": "python",
   "nbconvert_exporter": "python",
   "pygments_lexer": "ipython3",
   "version": "3.11.7"
  }
 },
 "nbformat": 4,
 "nbformat_minor": 5
}
