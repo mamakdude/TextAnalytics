{
 "cells": [
  {
   "cell_type": "markdown",
   "id": "7c45a3d6-4ebc-4dcf-a0d5-84c2ff4e1414",
   "metadata": {},
   "source": [
    "### Exersice 1 "
   ]
  },
  {
   "cell_type": "code",
   "execution_count": 34,
   "id": "c4b364fd-bf58-45c8-9b20-4144fbcc9ba1",
   "metadata": {},
   "outputs": [],
   "source": [
    "from gensim import corpora, models\n",
    "from nltk.tokenize import word_tokenize\n",
    "from nltk.corpus import stopwords\n",
    "from nltk.stem import WordNetLemmatizer\n",
    "import nltk\n",
    "import pandas as pd\n"
   ]
  },
  {
   "cell_type": "code",
   "execution_count": 35,
   "id": "d60b5284-ae95-426a-8fd6-c825f931f07e",
   "metadata": {},
   "outputs": [],
   "source": [
    "documents = [\n",
    "    \"Rafael Nadal Joins Roger Federer in Missing U.S. Open\",\n",
    "    \"Rafael Nadal Is Out of the Australian Open\",\n",
    "    \"Biden Announces Virus Measures\",\n",
    "    \"Biden's Virus Plans Meet Reality\",\n",
    "    \"Where Biden's Virus Plan Stands\"\n",
    "]\n"
   ]
  },
  {
   "cell_type": "code",
   "execution_count": 36,
   "id": "476a71b9-c622-46fc-ae88-87061fe13a37",
   "metadata": {},
   "outputs": [
    {
     "data": {
      "text/plain": [
       "[['rafael', 'nadal', 'join', 'roger', 'federer', 'missing', 'open'],\n",
       " ['rafael', 'nadal', 'australian', 'open'],\n",
       " ['biden', 'announces', 'virus', 'measure'],\n",
       " ['biden', 'virus', 'plan', 'meet', 'reality'],\n",
       " ['biden', 'virus', 'plan', 'stand']]"
      ]
     },
     "execution_count": 36,
     "metadata": {},
     "output_type": "execute_result"
    }
   ],
   "source": [
    "stop_words = set(stopwords.words('english'))\n",
    "lemmatizer = WordNetLemmatizer()\n",
    "\n",
    "def preprocess(doc):\n",
    "    tokens = word_tokenize(doc.lower())\n",
    "    tokens = [t for t in tokens if t.isalnum() and t not in stop_words]\n",
    "    tokens = [lemmatizer.lemmatize(t) for t in tokens]\n",
    "    return tokens\n",
    "\n",
    "pre_docs = [preprocess(doc) for doc in documents]\n",
    "pre_docs"
   ]
  },
  {
   "cell_type": "code",
   "execution_count": 37,
   "id": "a3cfe2b4-465f-43e3-acbe-7564a18375c8",
   "metadata": {},
   "outputs": [],
   "source": [
    "dictionary = corpora.Dictionary(pre_docs)\n",
    "corpus = [dictionary.doc2bow(doc) for doc in pre_docs]\n",
    "\n"
   ]
  },
  {
   "cell_type": "code",
   "execution_count": 38,
   "id": "c2c758ac-3258-4bad-b23a-5072d6da24bb",
   "metadata": {},
   "outputs": [],
   "source": [
    "lda_model = models.LdaModel(corpus, num_topics=2, id2word=dictionary, passes=10)\n"
   ]
  },
  {
   "cell_type": "code",
   "execution_count": 39,
   "id": "cf5170fb-c545-467b-b3fe-6f940bde6524",
   "metadata": {},
   "outputs": [],
   "source": [
    "article_labels = []\n",
    "\n",
    "for i, doc in enumerate(pre_docs):\n",
    "    bow = dictionary.doc2bow(doc)\n",
    "    topics = lda_model.get_document_topics(bow)\n",
    "    dominant_topic = max(topics,key=lambda x: x[1])[0]\n",
    "    article_labels.append(dominant_topic)"
   ]
  },
  {
   "cell_type": "code",
   "execution_count": 40,
   "id": "9fd59848-60b4-410d-bc09-5bdde284447e",
   "metadata": {},
   "outputs": [
    {
     "name": "stdout",
     "output_type": "stream",
     "text": [
      "Table with Articles and Topic:\n",
      "                                             Article  Topic\n",
      "0  Rafael Nadal Joins Roger Federer in Missing U....      1\n",
      "1         Rafael Nadal Is Out of the Australian Open      1\n",
      "2                     Biden Announces Virus Measures      0\n",
      "3                   Biden's Virus Plans Meet Reality      0\n",
      "4                    Where Biden's Virus Plan Stands      0\n",
      "\n"
     ]
    }
   ],
   "source": [
    "df = pd.DataFrame({\"Article\": documents, \"Topic\": article_labels})\n",
    "\n",
    "print(\"Table with Articles and Topic:\")\n",
    "print(df)\n",
    "print()"
   ]
  },
  {
   "cell_type": "code",
   "execution_count": 41,
   "id": "b4959672-1dce-44b5-940d-13faf35075af",
   "metadata": {},
   "outputs": [
    {
     "name": "stdout",
     "output_type": "stream",
     "text": [
      "Top Terms for Each Topic:\n",
      "Topic 0: 0.166*\"biden\" + 0.166*\"virus\" + 0.119*\"plan\" + 0.071*\"reality\" + 0.071*\"meet\" + 0.071*\"announces\" + 0.071*\"measure\" + 0.071*\"stand\" + 0.024*\"open\" + 0.024*\"nadal\"\n",
      "- \"biden\" (weight: 0.166)\n",
      "- \"virus\" (weight: 0.166)\n",
      "- \"plan\" (weight: 0.119)\n",
      "- \"reality\" (weight: 0.071)\n",
      "- \"meet\" (weight: 0.071)\n",
      "- \"announces\" (weight: 0.071)\n",
      "- \"measure\" (weight: 0.071)\n",
      "- \"stand\" (weight: 0.071)\n",
      "- \"open\" (weight: 0.024)\n",
      "- \"nadal\" (weight: 0.024)\n",
      "\n",
      "Topic 1: 0.131*\"rafael\" + 0.131*\"nadal\" + 0.131*\"open\" + 0.079*\"australian\" + 0.079*\"missing\" + 0.079*\"roger\" + 0.079*\"federer\" + 0.079*\"join\" + 0.027*\"virus\" + 0.027*\"plan\"\n",
      "- \"rafael\" (weight: 0.131)\n",
      "- \"nadal\" (weight: 0.131)\n",
      "- \"open\" (weight: 0.131)\n",
      "- \"australian\" (weight: 0.079)\n",
      "- \"missing\" (weight: 0.079)\n",
      "- \"roger\" (weight: 0.079)\n",
      "- \"federer\" (weight: 0.079)\n",
      "- \"join\" (weight: 0.079)\n",
      "- \"virus\" (weight: 0.027)\n",
      "- \"plan\" (weight: 0.027)\n",
      "\n"
     ]
    }
   ],
   "source": [
    "print(\"Top Terms for Each Topic:\")\n",
    "\n",
    "for idx, topic in lda_model.print_topics():\n",
    "    print(f\"Topic {idx}: {topic}\")\n",
    "    terms = [term.strip() for term in topic.split(\"+\")]\n",
    "    for term in terms:\n",
    "        weight, word = term.split(\"*\")\n",
    "        print(f\"- {word.strip()} (weight: {weight.strip()})\")\n",
    "    print()\n"
   ]
  },
  {
   "cell_type": "code",
   "execution_count": null,
   "id": "26df6f1d-2ca4-4a3d-81e3-837832487ff0",
   "metadata": {},
   "outputs": [],
   "source": []
  },
  {
   "cell_type": "code",
   "execution_count": null,
   "id": "4c67340e-d939-44ec-b48f-43a60316890e",
   "metadata": {},
   "outputs": [],
   "source": []
  }
 ],
 "metadata": {
  "kernelspec": {
   "display_name": "Python 3 (ipykernel)",
   "language": "python",
   "name": "python3"
  },
  "language_info": {
   "codemirror_mode": {
    "name": "ipython",
    "version": 3
   },
   "file_extension": ".py",
   "mimetype": "text/x-python",
   "name": "python",
   "nbconvert_exporter": "python",
   "pygments_lexer": "ipython3",
   "version": "3.11.7"
  }
 },
 "nbformat": 4,
 "nbformat_minor": 5
}
