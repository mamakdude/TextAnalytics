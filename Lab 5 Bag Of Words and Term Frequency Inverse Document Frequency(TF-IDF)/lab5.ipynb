{
 "cells": [
  {
   "cell_type": "markdown",
   "id": "87203203-4407-4ded-b543-bfeb8a94fc86",
   "metadata": {},
   "source": [
    "### BAG OF WORDS IMPLEMENTATION"
   ]
  },
  {
   "cell_type": "code",
   "execution_count": 1,
   "id": "e667ebe6-a8fa-43fe-a59e-1e4e4a3ce4e2",
   "metadata": {},
   "outputs": [],
   "source": [
    "from collections import Counter #count word occurrences \n",
    "import pandas as pd"
   ]
  },
  {
   "cell_type": "code",
   "execution_count": 3,
   "id": "c1c1d0e7-470c-4d24-aa9f-acf41a5d5605",
   "metadata": {},
   "outputs": [],
   "source": [
    "file_path = \"Processed_Reviews.csv\" \n",
    "df = pd.read_csv(file_path)"
   ]
  },
  {
   "cell_type": "code",
   "execution_count": 4,
   "id": "53eb9515-cf01-4681-8fb5-02219e311d08",
   "metadata": {},
   "outputs": [],
   "source": [
    "tokenized_reviews = df['tokenized'].dropna().apply(eval)"
   ]
  },
  {
   "cell_type": "code",
   "execution_count": 5,
   "id": "102030e0-80f0-4802-bfe1-9a53fa2774d9",
   "metadata": {},
   "outputs": [],
   "source": [
    "all_words = [word for review in tokenized_reviews for word in review] \n",
    "unique_words = list(set(all_words)) "
   ]
  },
  {
   "cell_type": "code",
   "execution_count": 10,
   "id": "70e04507-d3a0-4eb7-ba8c-33a69f597edb",
   "metadata": {},
   "outputs": [],
   "source": [
    "word_freq = Counter(all_words) \n",
    "sorted_word_freq = dict(sorted(word_freq.items(), reverse=True))"
   ]
  },
  {
   "cell_type": "code",
   "execution_count": 11,
   "id": "46b976ce-149c-4390-8bec-a61610aaaa0d",
   "metadata": {},
   "outputs": [],
   "source": [
    "document_vectors = [] \n",
    "for review in tokenized_reviews: \n",
    "    document_vector = [1 if word in review else 0 for word in sorted_word_freq.keys()] \n",
    "    document_vectors.append(document_vector)"
   ]
  },
  {
   "cell_type": "code",
   "execution_count": 12,
   "id": "1157ffcb-4f32-49c7-b6e4-1f7bf2411fad",
   "metadata": {},
   "outputs": [],
   "source": [
    "doc_vectors_df = pd.DataFrame(document_vectors, columns=sorted_word_freq.keys()) "
   ]
  },
  {
   "cell_type": "code",
   "execution_count": 13,
   "id": "931209ef-5857-47f4-859d-91b84bc1daba",
   "metadata": {},
   "outputs": [],
   "source": [
    "doc_vectors_df.to_csv(\"document_vectors.csv\", index=False) "
   ]
  },
  {
   "cell_type": "code",
   "execution_count": 15,
   "id": "59529f32-1c0d-4145-a47a-448de169787d",
   "metadata": {},
   "outputs": [
    {
     "name": "stdout",
     "output_type": "stream",
     "text": [
      "Word Frequency Table:\n",
      "           Word  Frequency\n",
      "0           wow          1\n",
      "1         worth          1\n",
      "2          work          2\n",
      "3           use          1\n",
      "4       totally          1\n",
      "5          time          1\n",
      "6         short          1\n",
      "7          shoe          1\n",
      "8       quality          3\n",
      "9      purchase          1\n",
      "10      product          7\n",
      "11        phone          1\n",
      "12    perfectly          2\n",
      "13    packaging          1\n",
      "14           oh          1\n",
      "15          not          1\n",
      "16       nicely          1\n",
      "17         much          1\n",
      "18         love          2\n",
      "19         life          2\n",
      "20       laptop          1\n",
      "21          jog          1\n",
      "22           hz          1\n",
      "23       honest          1\n",
      "24        happy          1\n",
      "25        great          2\n",
      "26         good          1\n",
      "27          god          1\n",
      "28         full          1\n",
      "29          fit          1\n",
      "30         fine          1\n",
      "31         fast          1\n",
      "32    expensive          1\n",
      "33       expect          2\n",
      "34    excellent          1\n",
      "35         ever          1\n",
      "36      display          1\n",
      "37       detail          1\n",
      "38     delivery          1\n",
      "39  comfortable          1\n",
      "40        check          1\n",
      "41       charge          1\n",
      "42          can          1\n",
      "43        cable          1\n",
      "44          buy          1\n",
      "45          bit          1\n",
      "46         best          1\n",
      "47      believe          1\n",
      "48      battery          1\n",
      "49      awesome          2\n",
      "50       arrive          1\n",
      "51      amazing          2\n",
      "52        amaze          1\n"
     ]
    }
   ],
   "source": [
    "word_freq_df = pd.DataFrame(list(sorted_word_freq.items()), columns=[\"Word\",\"Frequency\"]) \n",
    "print(\"Word Frequency Table:\") \n",
    "print(word_freq_df)"
   ]
  },
  {
   "cell_type": "markdown",
   "id": "81614995-ad3e-4d6a-b550-f934005436de",
   "metadata": {},
   "source": [
    "### TF-IDF IMPLEMENTATION"
   ]
  },
  {
   "cell_type": "code",
   "execution_count": 16,
   "id": "e257e118-6b84-414e-a872-ec4f532d777f",
   "metadata": {},
   "outputs": [],
   "source": [
    "import pandas as pd \n",
    "import math # use for log function \n",
    "from collections import Counter "
   ]
  },
  {
   "cell_type": "code",
   "execution_count": 17,
   "id": "4b7fb6be-5262-45d8-9017-0719170880a1",
   "metadata": {},
   "outputs": [],
   "source": [
    "file_path = \"Processed_Reviews.csv\" \n",
    "df = pd.read_csv(file_path) "
   ]
  },
  {
   "cell_type": "code",
   "execution_count": 18,
   "id": "82549400-4352-45c6-9572-dbd3accb005e",
   "metadata": {},
   "outputs": [],
   "source": [
    "tokenized_reviews = df['tokenized'].dropna().apply(eval) "
   ]
  },
  {
   "cell_type": "code",
   "execution_count": 19,
   "id": "87160973-3294-4a87-8daf-67fcfcb9ffb4",
   "metadata": {},
   "outputs": [],
   "source": [
    "def compute_tf(document): \n",
    "    word_count = Counter(document) \n",
    "    tf = {word: count / len(document) for word, count in word_count.items()} \n",
    "    return tf "
   ]
  },
  {
   "cell_type": "code",
   "execution_count": 20,
   "id": "84c2b6cb-9b1e-4edb-831b-d6c132658760",
   "metadata": {},
   "outputs": [],
   "source": [
    "def compute_idf(documents): \n",
    "    N = len(documents)  # Total number of documents \n",
    "    idf = {} \n",
    "    all_words = set(word for doc in documents for word in doc)  # Unique words \n",
    "    for word in all_words: \n",
    "        count = sum(1 for doc in documents if word in doc) \n",
    "        idf[word] = math.log(N / count) \n",
    "    return idf "
   ]
  },
  {
   "cell_type": "code",
   "execution_count": 21,
   "id": "05912b35-bea3-4e71-bdda-0d061dcfdd0d",
   "metadata": {},
   "outputs": [],
   "source": [
    "def compute_tfidf(document, idf): \n",
    "    tfidf = {} \n",
    "    tf = compute_tf(document)  # Get TF values for the document \n",
    "    for word, tf_value in tf.items(): \n",
    "        tfidf[word] = tf_value * idf[word]  # Multiply TF and IDF \n",
    "    return tfidf"
   ]
  },
  {
   "cell_type": "code",
   "execution_count": 22,
   "id": "b3cf273a-207b-4090-a10c-13f1a27dcecc",
   "metadata": {},
   "outputs": [],
   "source": [
    "documents = tokenized_reviews.tolist() "
   ]
  },
  {
   "cell_type": "code",
   "execution_count": 23,
   "id": "027d2948-7e7f-4170-8e4b-d0823f13698a",
   "metadata": {},
   "outputs": [],
   "source": [
    "tf_data = [compute_tf(doc) for doc in documents] \n",
    "tf_df = pd.DataFrame(tf_data).fillna(0) \n",
    "tf_df.to_csv(\"tf_scores.csv\", index=False) "
   ]
  },
  {
   "cell_type": "code",
   "execution_count": 24,
   "id": "4abdea93-597b-4742-8a3b-d6fa334c3cce",
   "metadata": {},
   "outputs": [],
   "source": [
    "idf = compute_idf(documents) \n",
    "idf_df = pd.DataFrame([idf]).fillna(0) \n",
    "idf_df.to_csv(\"idf_scores.csv\", index=False) "
   ]
  },
  {
   "cell_type": "code",
   "execution_count": 25,
   "id": "614cfdc4-add1-4918-9d1c-4501d342bdb1",
   "metadata": {},
   "outputs": [],
   "source": [
    "tfidf_data = [compute_tfidf(doc, idf) for doc in documents] \n",
    "tfidf_df = pd.DataFrame(tfidf_data).fillna(0) \n",
    "tfidf_df.to_csv(\"tfidf_scores.csv\", index=False) "
   ]
  },
  {
   "cell_type": "code",
   "execution_count": null,
   "id": "a87500a9-8766-4600-93da-40f6283b9867",
   "metadata": {},
   "outputs": [],
   "source": []
  }
 ],
 "metadata": {
  "kernelspec": {
   "display_name": "Python 3 (ipykernel)",
   "language": "python",
   "name": "python3"
  },
  "language_info": {
   "codemirror_mode": {
    "name": "ipython",
    "version": 3
   },
   "file_extension": ".py",
   "mimetype": "text/x-python",
   "name": "python",
   "nbconvert_exporter": "python",
   "pygments_lexer": "ipython3",
   "version": "3.11.7"
  }
 },
 "nbformat": 4,
 "nbformat_minor": 5
}
