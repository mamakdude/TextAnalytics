{
 "cells": [
  {
   "cell_type": "code",
   "execution_count": 2,
   "id": "ab1c8a51-a479-44d2-96aa-24388d12a3dd",
   "metadata": {},
   "outputs": [
    {
     "name": "stdin",
     "output_type": "stream",
     "text": [
      "Solve the CAPTCHA in the opened browser, then press Enter to continue... \n"
     ]
    },
    {
     "name": "stdout",
     "output_type": "stream",
     "text": [
      "Fetching: https://my.lazada.com.my/pdp/review/getReviewList?itemId=2623278934&pageSize=5&filter=0&sort=0&pageNo=1\n",
      "Fetching: https://my.lazada.com.my/pdp/review/getReviewList?itemId=2623278934&pageSize=5&filter=0&sort=0&pageNo=2\n",
      "Fetching: https://my.lazada.com.my/pdp/review/getReviewList?itemId=2623278934&pageSize=5&filter=0&sort=0&pageNo=3\n",
      "Fetching: https://my.lazada.com.my/pdp/review/getReviewList?itemId=2623278934&pageSize=5&filter=0&sort=0&pageNo=4\n",
      "Fetching: https://my.lazada.com.my/pdp/review/getReviewList?itemId=2623278934&pageSize=5&filter=0&sort=0&pageNo=5\n",
      "Reviews saved to sambal_nyet_review.csv\n"
     ]
    }
   ],
   "source": [
    "##SN01083035 Uwais Ilahi B Haja Badurudeen\n",
    "## Install required dependencies (run these in your terminal or command prompt)\n",
    "# pip install webdriver-manager  # Manages and downloads the correct ChromeDriver version automatically\n",
    "# pip install selenium           # Installs the Selenium package for web automation\n",
    "\n",
    "# Import necessary modules\n",
    "from selenium import webdriver  # Controls the Chrome browser\n",
    "from selenium.webdriver.common.by import By  # Helps locate elements on a webpage\n",
    "import time  # Used to add delays in execution\n",
    "import json  # Handles JSON data parsing\n",
    "import csv  # Provides functionality for writing CSV files\n",
    "import re  # Provides support for regular expressions\n",
    "\n",
    "# Define the URL of the Lazada product page\n",
    "url = \"https://www.lazada.com.my/products/sambal-nyet-berapi-ori-dari-khairulaming-i2623278934-s11857920384.html?c=&channelLpJumpArgs=&clickTrackInfo=query%253Asambal%25252520nyet%253Bnid%253A2623278934%253Bsrc%253ALazadaMainSrp%253Brn%253Abf2de2d14f45c1d0a6c560d1677b35f8%253Bregion%253Amy%253Bsku%253A2623278934_MY%253Bprice%253A19.9%253Bclient%253Adesktop%253Bsupplier_id%253A300156873084%253Bbiz_source%253Ah5_internal%253Bslot%253A0%253Butlog_bucket_id%253A470687%253Basc_category_id%253A10003066%253Bitem_id%253A2623278934%253Bsku_id%253A11857920384%253Bshop_id%253A2002750%253BtemplateInfo%253A107880_D_E%2523-1_A3_C%2523&freeshipping=1&fs_ab=2&fuse_fs=&lang=en&location=Selangor&price=19.9&priceCompare=skuId%3A11857920384%3Bsource%3Alazada-search-voucher%3Bsn%3Abf2de2d14f45c1d0a6c560d1677b35f8%3BoriginPrice%3A1990%3BdisplayPrice%3A1990%3BsinglePromotionId%3A-1%3BsingleToolCode%3A-1%3BvoucherPricePlugin%3A0%3Btimestamp%3A1741419111378&ratingscore=4.959580838323354&request_id=bf2de2d14f45c1d0a6c560d1677b35f8&review=668&sale=3057&search=1&source=search&spm=a2o4k.searchList.list.0&stock=1\"\n",
    "\n",
    "# Use a regular expression to extract the item ID from the URL\n",
    "match = re.search(r\"i(\\d+)-s\", url)\n",
    "item_id = match.group(1)  # Extract the matched item ID\n",
    "\n",
    "# Configure Selenium WebDriver options\n",
    "options = webdriver.ChromeOptions()\n",
    "options.add_argument(\"start-maximized\")  # Open Chrome in maximized mode\n",
    "options.add_argument(\"--disable-blink-features=AutomationControlled\")  # Prevent detection by websites\n",
    "\n",
    "# Initialize the Selenium WebDriver (Chrome)\n",
    "driver = webdriver.Chrome(options=options)\n",
    "\n",
    "# Construct the Lazada review API URL using the extracted item ID\n",
    "base_url = f'https://my.lazada.com.my/pdp/review/getReviewList?itemId={item_id}&pageSize=5&filter=0&sort=0&pageNo='\n",
    "\n",
    "# Open the first review page to allow manual CAPTCHA solving\n",
    "driver.get(base_url + \"1\")\n",
    "\n",
    "# 🛑 Pause execution and wait for the user to solve the CAPTCHA manually\n",
    "input(\"Solve the CAPTCHA in the opened browser, then press Enter to continue...\")\n",
    "\n",
    "# Open a CSV file to store the reviews\n",
    "with open(\"sambal_nyet_review.csv\", \"w\", newline=\"\", encoding=\"utf-8\") as file:\n",
    "    writer = csv.writer(file)\n",
    "    writer.writerow([\"Buyer Name\", \"Review\", \"Date\"])  # Write CSV header\n",
    "\n",
    "    # Loop through the first 5 pages of reviews\n",
    "    for page in range(1, 6):\n",
    "        url = base_url + str(page)  # Construct the URL for the current page\n",
    "        print(f\"Fetching: {url}\")  # Display the URL being fetched\n",
    "        driver.get(url)  # Open the page in the browser\n",
    "        time.sleep(3)  # Wait for the page to load\n",
    "\n",
    "        # Extract the page content (which is in JSON format)\n",
    "        page_source = driver.find_element(By.TAG_NAME, \"body\").text\n",
    "        data = json.loads(page_source)  # Parse the JSON response\n",
    "\n",
    "        # Extract reviews from \"items\", ensuring only top-level reviews are considered\n",
    "        reviews = [review for review in data.get(\"model\", {}).get(\"items\", []) if \"reviewTime\" in review]\n",
    "\n",
    "        # Loop through each review and extract relevant details\n",
    "        for review in reviews:\n",
    "            writer.writerow([\n",
    "                review.get(\"buyerName\", \"N/A\"),  # Extract buyer name\n",
    "                review.get(\"reviewContent\", \"N/A\").replace(\"\\n\", \" \"),  # Extract and clean review content\n",
    "                review.get(\"reviewTime\", \"N/A\")  # Extract review date\n",
    "            ])\n",
    "\n",
    "print(\"Reviews saved to sambal_nyet_review.csv\")  # Confirm successful saving\n",
    "\n",
    "# Close the Selenium WebDriver\n",
    "driver.quit()\n"
   ]
  },
  {
   "cell_type": "code",
   "execution_count": null,
   "id": "acbb0d7c-9061-4b3e-871e-4353febf3dc0",
   "metadata": {},
   "outputs": [],
   "source": []
  }
 ],
 "metadata": {
  "kernelspec": {
   "display_name": "Python 3 (ipykernel)",
   "language": "python",
   "name": "python3"
  },
  "language_info": {
   "codemirror_mode": {
    "name": "ipython",
    "version": 3
   },
   "file_extension": ".py",
   "mimetype": "text/x-python",
   "name": "python",
   "nbconvert_exporter": "python",
   "pygments_lexer": "ipython3",
   "version": "3.11.7"
  }
 },
 "nbformat": 4,
 "nbformat_minor": 5
}
